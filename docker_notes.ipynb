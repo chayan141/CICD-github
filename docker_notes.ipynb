{
  "nbformat": 4,
  "nbformat_minor": 0,
  "metadata": {
    "colab": {
      "provenance": [],
      "authorship_tag": "ABX9TyOh8+oept5jmkLnxpJXEfgd",
      "include_colab_link": true
    },
    "kernelspec": {
      "name": "python3",
      "display_name": "Python 3"
    },
    "language_info": {
      "name": "python"
    }
  },
  "cells": [
    {
      "cell_type": "markdown",
      "metadata": {
        "id": "view-in-github",
        "colab_type": "text"
      },
      "source": [
        "<a href=\"https://colab.research.google.com/github/chayan141/CICD-github/blob/main/docker_notes.ipynb\" target=\"_parent\"><img src=\"https://colab.research.google.com/assets/colab-badge.svg\" alt=\"Open In Colab\"/></a>"
      ]
    },
    {
      "cell_type": "markdown",
      "source": [
        "Docker is a platform to help developers to build, share and run container applications."
      ],
      "metadata": {
        "id": "2CsqCKzwk1Cl"
      }
    },
    {
      "cell_type": "markdown",
      "source": [
        "Application often behaves differently in development, testing and production enviroments due to variations in configuration, dependencies and infrastructures.\n",
        "\n",
        "Docker container encapsulate all the necessary components, ensuring the applications run consistently across all enviroments."
      ],
      "metadata": {
        "id": "HT2IMWKik_8Y"
      }
    },
    {
      "cell_type": "markdown",
      "source": [
        "Running multiple applications on the same host can lead to conflicts, such as dependency clash or resource contention. Docker provides isolated enviroments for each applications preventing interferrence."
      ],
      "metadata": {
        "id": "LwhuWug8ld_P"
      }
    },
    {
      "cell_type": "markdown",
      "source": [
        "# Docker Engine"
      ],
      "metadata": {
        "id": "L9UTysW2nhY8"
      }
    },
    {
      "cell_type": "markdown",
      "source": [
        "Docker Engine: The core component of docker platform, responsible for creating running and managing docker container.\n",
        "\n",
        "Components of docker engine:\n",
        "\n",
        "Docker Daemon: The docker daemon is the background service running on the host machine. It manages docker objects like containers, networks.\n",
        "\n",
        "Docker CLI : The docker CLI is the tool that users interact with to communicate with the docker daemon.\n",
        "\n",
        "REST API: The docker rest api allows communication between the docker CLI and docker daemon.\n",
        "\n",
        "Docker CLI interacts between users and docker daemon and REST API communicates between docker daemon and docker CLI."
      ],
      "metadata": {
        "id": "q7H1JjHjl-am"
      }
    },
    {
      "cell_type": "markdown",
      "source": [
        "# Docker Image:"
      ],
      "metadata": {
        "id": "Okbb9dX0nlYY"
      }
    },
    {
      "cell_type": "markdown",
      "source": [
        "A docker image is a lightweight, standalone, and executable software package that includes everything needed to run a piece of software such as code, runtime, librarys, enviroment variables, and configuration files. Images are used to create docker containers which are instances of these images.\n",
        "\n",
        "Docker images contains: Base Image, Application code, dependencies, metadata."
      ],
      "metadata": {
        "id": "oeoXOoKtnopD"
      }
    },
    {
      "cell_type": "code",
      "execution_count": null,
      "metadata": {
        "id": "P0RAaO-fkpbw"
      },
      "outputs": [],
      "source": []
    }
  ]
}